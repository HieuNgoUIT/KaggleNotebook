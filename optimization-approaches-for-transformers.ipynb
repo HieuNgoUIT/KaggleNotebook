{
 "cells": [
  {
   "cell_type": "markdown",
   "id": "27fc5176",
   "metadata": {
    "papermill": {
     "duration": 0.009757,
     "end_time": "2022-06-22T09:13:28.939047",
     "exception": false,
     "start_time": "2022-06-22T09:13:28.929290",
     "status": "completed"
    },
    "tags": []
   },
   "source": [
    "<a name=\"introduction\"></a>\n",
    "<h1 style=\"font-family: Verdana; font-weight: bold;\">Introduction</h1>\n",
    "<p style=\"font-size: 15px; font-family: Verdana;\">\n",
    "    Despite the stunning success of Transformers in Natural Language Processing (NLP) tasks, it is still challenging to train them on even modern Graphics Processing Units (GPUs) or deploy them in production, due to the massive number of parameters. Training or inferencing such large models, we can probably run <a href=\"https://en.wikipedia.org/wiki/Out_of_memory\">out of memory (OOM)</a> or the process becomes very long.<br><br>\n",
    "Nevertheless, there are a lot of offered approaches to avoid such problems, so the main contribution of this article is to describe and show how the provided methods can be applied in the Training and Inference scripts. Firstly, the article will go through basic approaches such as Gradient Accumulation, Freezing, Automatic Mixed Precision, 8-bit Optimizers, and Gradient Checkpointing, and then describe NLP-specific optimizing approaches such as Dynamic Padding, Uniform Dynamic Padding, and Fast Tokenizers.\n",
    "\n",
    "</p>"
   ]
  },
  {
   "cell_type": "markdown",
   "id": "c83b9df7",
   "metadata": {
    "papermill": {
     "duration": 0.00861,
     "end_time": "2022-06-22T09:13:28.956757",
     "exception": false,
     "start_time": "2022-06-22T09:13:28.948147",
     "status": "completed"
    },
    "tags": []
   },
   "source": [
    "<a name=\"#table_of_contents\"></a>\n",
    "<h1 style=\"font-family: Verdana; font-weight: bold;\">Table on contents</h1>\n",
    "\n",
    "<ul>\n",
    "    <li style=\"font-size: 17px; font-family: Verdana;\"><b><a href=\"#introduction\">Introduction</a></b></li>\n",
    "    <li style=\"font-size: 17px; font-family: Verdana;\"><b><a href=\"#table_of_contents\">Table on contents</a></b></li>\n",
    "    <li style=\"font-size: 17px; font-family: Verdana;\"><b><a href=\"#gradient_accumulation\">Gradient Accumulation</a></b>\n",
    "        <ul>\n",
    "            <li style=\"font-size: 15px; font-family: Verdana;\"><a href=\"#gradient_accumulation_vanilla_training\">Vanilla training loop</a></li>\n",
    "            <li style=\"font-size: 15px; font-family: Verdana;\"><a href=\"#gradient_accumulation_training\">Training loop with Gradient Accumulation</a></li>\n",
    "        </ul>\n",
    "    </li>\n",
    "    <li style=\"font-size: 17px; font-family: Verdana;\"><b><a href=\"#freezing\">Freezing</a></b>\n",
    "        <ul>\n",
    "            <li style=\"font-size: 15px; font-family: Verdana;\"><a href=\"#freezing_implementation\">Implementation</a></li>\n",
    "        </ul>\n",
    "    </li>\n",
    "    <li style=\"font-size: 17px; font-family: Verdana;\"><b><a href=\"#amp\">Automatic Mixed Precision</a></b>\n",
    "        <ul>\n",
    "            <li style=\"font-size: 15px; font-family: Verdana;\"><a href=\"#amp_vanilla_training\">Vanilla training loop</a></li>\n",
    "            <li style=\"font-size: 15px; font-family: Verdana;\"><a href=\"#amp_training\">Training loop with Automatic Mixed Precision</a></li>\n",
    "        </ul>\n",
    "    </li>\n",
    "    <li style=\"font-size: 17px; font-family: Verdana;\"><b><a href=\"#8bit_optimizers\">8-bit Optimizers</a></b>\n",
    "        <ul>\n",
    "            <li style=\"font-size: 15px; font-family: Verdana;\"><a href=\"#8bit_optimizers_pytorch_training\">Initializing optimizers via PyTorch</a></li>\n",
    "            <li style=\"font-size: 15px; font-family: Verdana;\"><a href=\"#8bit_optimizers_bytesandbites_training\">Initializing optimizers via bytesandbites</a></li>\n",
    "        </ul>\n",
    "    </li>\n",
    "    <li style=\"font-size: 17px; font-family: Verdana;\"><b><a href=\"#gradient_checkpointing\">Gradient Checkpointing</a></b>\n",
    "        <ul>\n",
    "            <li style=\"font-size: 15px; font-family: Verdana;\"><a href=\"#gradient_checkpointing_implementation\">Implementation</a></li>\n",
    "        </ul>\n",
    "    </li>\n",
    "            <li style=\"font-size: 17px; font-family: Verdana;\"><b><a href=\"#fast_tokenizers\">Fast Tokenizers</a></b>\n",
    "        <ul>\n",
    "            <li style=\"font-size: 15px; font-family: Verdana;\"><a href=\"#fast_tokenizers_implementation\">Implementation</a></li>\n",
    "        </ul>\n",
    "    </li>\n",
    "            <li style=\"font-size: 17px; font-family: Verdana;\"><b><a href=\"#dynamic_padding\">Dynamic Padding</a></b>\n",
    "        <ul>\n",
    "<!--             <li style=\"font-size: 15px; font-family: Verdana;\">Implementation</li> -->\n",
    "        </ul>\n",
    "    </li>\n",
    "        <li style=\"font-size: 17px; font-family: Verdana;\"><b><a href=\"#uniform_dynamic_padding\">Uniform Dynamic Padding</a></b>\n",
    "        <ul>\n",
    "<!--             <li style=\"font-size: 15px; font-family: Verdana;\">Implementation</li> -->\n",
    "        </ul>\n",
    "    </li>\n",
    "        <li style=\"font-size: 17px; font-family: Verdana;\"><b><a href=\"#conclusion\">Conclusion</a></b></li>\n",
    "        <li style=\"font-size: 17px; font-family: Verdana;\"><b><a href=\"#references\">References</a></b></li>\n",
    "        <li style=\"font-size: 17px; font-family: Verdana;\"><b><a href=\"#releases\">Releases</a></b></li>\n",
    "</ul>"
   ]
  },
  {
   "cell_type": "code",
   "execution_count": 1,
   "id": "b964f6de",
   "metadata": {
    "_cell_guid": "b1076dfc-b9ad-4769-8c92-a6c4dae69d19",
    "_kg_hide-input": true,
    "_uuid": "8f2839f25d086af736a60e9eeb907d3b93b6e0e5",
    "execution": {
     "iopub.execute_input": "2022-06-22T09:13:28.976499Z",
     "iopub.status.busy": "2022-06-22T09:13:28.975867Z",
     "iopub.status.idle": "2022-06-22T09:13:33.173829Z",
     "shell.execute_reply": "2022-06-22T09:13:33.172749Z"
    },
    "papermill": {
     "duration": 4.210335,
     "end_time": "2022-06-22T09:13:33.176092",
     "exception": false,
     "start_time": "2022-06-22T09:13:28.965757",
     "status": "completed"
    },
    "tags": []
   },
   "outputs": [
    {
     "name": "stdout",
     "output_type": "stream",
     "text": [
      "\u001b[33mWARNING: Running pip as the 'root' user can result in broken permissions and conflicting behaviour with the system package manager. It is recommended to use a virtual environment instead: https://pip.pypa.io/warnings/venv\u001b[0m\u001b[33m\r\n",
      "\u001b[0m"
     ]
    }
   ],
   "source": [
    "!pip uninstall -q -y transformers"
   ]
  },
  {
   "cell_type": "code",
   "execution_count": 2,
   "id": "8194f421",
   "metadata": {
    "_kg_hide-input": true,
    "execution": {
     "iopub.execute_input": "2022-06-22T09:13:33.194880Z",
     "iopub.status.busy": "2022-06-22T09:13:33.194547Z",
     "iopub.status.idle": "2022-06-22T09:13:40.716511Z",
     "shell.execute_reply": "2022-06-22T09:13:40.715749Z"
    },
    "papermill": {
     "duration": 7.533653,
     "end_time": "2022-06-22T09:13:40.718552",
     "exception": false,
     "start_time": "2022-06-22T09:13:33.184899",
     "status": "completed"
    },
    "tags": []
   },
   "outputs": [],
   "source": [
    "import sys\n",
    "sys.path.append(\"../input/torch-components-library/torch-components-main\")\n",
    "sys.path.append(\"../input/transformers/src\")\n",
    "import transformers\n",
    "import warnings\n",
    "import os\n",
    "\n",
    "os.environ[\"TOKENIZERS_PARALLELISM\"] = \"true\"\n",
    "\n",
    "warnings.simplefilter(\"ignore\")\n",
    "transformers.logging.set_verbosity_error()"
   ]
  },
  {
   "cell_type": "markdown",
   "id": "3baa1bc8",
   "metadata": {
    "papermill": {
     "duration": 0.008258,
     "end_time": "2022-06-22T09:13:40.735564",
     "exception": false,
     "start_time": "2022-06-22T09:13:40.727306",
     "status": "completed"
    },
    "tags": []
   },
   "source": [
    "<h1 style=\"font-family: Verdana; font-weight: bold;\">Gradient Accumulation</h1>\n",
    "\n",
    "<p style=\"font-size: 15px; font-family: Verdana;\">\n",
    "The idea behind Gradient Accumulation is very simple - simulating a larger batch size. Sometimes using a large batch size is necessary for better convergence or improving the performance, however, it often requires a lot of memory. One possible solution to such an issue is to use a smaller batch size, however, on the one hand, small batch size leads to increasing training or inference time, and on the other hand, the gradient descent algorithms are very sensitive to the choice of batch size and may lead to unstable convergence and performance reduction. Instead, we can run multiply steps (accumulation steps) and accumulate (compute average) gradients a certain number of accumulation steps, and then when we have enough computed gradients perform the optimization step.\n",
    "</p>"
   ]
  },
  {
   "cell_type": "markdown",
   "id": "3e29236f",
   "metadata": {
    "papermill": {
     "duration": 0.008125,
     "end_time": "2022-06-22T09:13:40.752382",
     "exception": false,
     "start_time": "2022-06-22T09:13:40.744257",
     "status": "completed"
    },
    "tags": []
   },
   "source": [
    "<center><img src=\"https://miro.medium.com/max/1400/1*rJIH9gPhctTLCk5G5iQ_oA.png\" width=\"1000px\" alt=\"Gradient Accumulatiom image\"></center>\n",
    "<p style=\"font-size: 20px; font-family: Verdana; color: grey;\"><center style=\"font-size: 17px; font-family: Verdana; color: grey;\">Visualization of how Gradient Accumulation works</center></p>"
   ]
  },
  {
   "cell_type": "markdown",
   "id": "1f13acd5",
   "metadata": {
    "papermill": {
     "duration": 0.00814,
     "end_time": "2022-06-22T09:13:40.768863",
     "exception": false,
     "start_time": "2022-06-22T09:13:40.760723",
     "status": "completed"
    },
    "tags": []
   },
   "source": [
    "<h3 style=\"font-family: Verdana; font-weight: bold;\">Vanilla training loop</h3>\n"
   ]
  },
  {
   "cell_type": "code",
   "execution_count": 3,
   "id": "9730846c",
   "metadata": {
    "execution": {
     "iopub.execute_input": "2022-06-22T09:13:40.792967Z",
     "iopub.status.busy": "2022-06-22T09:13:40.790701Z",
     "iopub.status.idle": "2022-06-22T09:13:41.207901Z",
     "shell.execute_reply": "2022-06-22T09:13:41.205588Z"
    },
    "papermill": {
     "duration": 0.432263,
     "end_time": "2022-06-22T09:13:41.209569",
     "exception": true,
     "start_time": "2022-06-22T09:13:40.777306",
     "status": "failed"
    },
    "tags": []
   },
   "outputs": [
    {
     "ename": "NameError",
     "evalue": "name 'loader' is not defined",
     "output_type": "error",
     "traceback": [
      "\u001b[0;31m---------------------------------------------------------------------------\u001b[0m",
      "\u001b[0;31mNameError\u001b[0m                                 Traceback (most recent call last)",
      "\u001b[0;32m/tmp/ipykernel_24/3593146371.py\u001b[0m in \u001b[0;36m<module>\u001b[0;34m\u001b[0m\n\u001b[0;32m----> 1\u001b[0;31m \u001b[0;32mfor\u001b[0m \u001b[0mstep\u001b[0m\u001b[0;34m,\u001b[0m \u001b[0mbatch\u001b[0m \u001b[0;32min\u001b[0m \u001b[0menumerate\u001b[0m\u001b[0;34m(\u001b[0m\u001b[0mloader\u001b[0m\u001b[0;34m,\u001b[0m \u001b[0;36m1\u001b[0m\u001b[0;34m)\u001b[0m\u001b[0;34m:\u001b[0m\u001b[0;34m\u001b[0m\u001b[0;34m\u001b[0m\u001b[0m\n\u001b[0m\u001b[1;32m      2\u001b[0m \u001b[0;34m\u001b[0m\u001b[0m\n\u001b[1;32m      3\u001b[0m     \u001b[0;31m# prepare inputs and targets for the model and loss function respectively.\u001b[0m\u001b[0;34m\u001b[0m\u001b[0;34m\u001b[0m\u001b[0;34m\u001b[0m\u001b[0m\n\u001b[1;32m      4\u001b[0m \u001b[0;34m\u001b[0m\u001b[0m\n\u001b[1;32m      5\u001b[0m     \u001b[0;31m# forward pass\u001b[0m\u001b[0;34m\u001b[0m\u001b[0;34m\u001b[0m\u001b[0;34m\u001b[0m\u001b[0m\n",
      "\u001b[0;31mNameError\u001b[0m: name 'loader' is not defined"
     ]
    }
   ],
   "source": [
    "for step, batch in enumerate(loader, 1):\n",
    "    \n",
    "    # prepare inputs and targets for the model and loss function respectively.\n",
    "    \n",
    "    # forward pass\n",
    "    outputs = model(inputs)\n",
    "    \n",
    "    # computing loss\n",
    "    loss = loss_fn(outputs, targets)\n",
    "    \n",
    "    # backward pass\n",
    "    loss.backward()\n",
    "    \n",
    "    # perform optimization step\n",
    "    torch.nn.utils.clip_grad_norm_(model.parameters(), max_norm)\n",
    "    optimizer.step()\n",
    "    model.zero_grad()"
   ]
  },
  {
   "cell_type": "markdown",
   "id": "961dcadb",
   "metadata": {
    "papermill": {
     "duration": null,
     "end_time": null,
     "exception": null,
     "start_time": null,
     "status": "pending"
    },
    "tags": []
   },
   "source": [
    "<h3 style=\"font-family: Verdana; font-weight: bold;\">Training loop with Gradient Accumulation</h3>"
   ]
  },
  {
   "cell_type": "code",
   "execution_count": null,
   "id": "b75a64bc",
   "metadata": {
    "execution": {
     "iopub.status.busy": "2022-06-22T08:56:24.416287Z",
     "iopub.status.idle": "2022-06-22T08:56:24.417347Z",
     "shell.execute_reply": "2022-06-22T08:56:24.417114Z",
     "shell.execute_reply.started": "2022-06-22T08:56:24.417090Z"
    },
    "papermill": {
     "duration": null,
     "end_time": null,
     "exception": null,
     "start_time": null,
     "status": "pending"
    },
    "tags": []
   },
   "outputs": [],
   "source": [
    "steps = len(loader)\n",
    "for step, batch in enumerate(loader, 1):\n",
    "    \n",
    "    # prepare inputs and targets for the model and loss function respectively.\n",
    "    \n",
    "    # forward pass\n",
    "    outputs = model(inputs)\n",
    "    \n",
    "    # computing loss\n",
    "    loss = loss_fn(outputs, targets)\n",
    "    \n",
    "    # accumulating gradients over steps\n",
    "    if gradient_accumulation_steps > 1:\n",
    "        loss = loss / gradient_accumulation_steps\n",
    "    \n",
    "    # backward pass\n",
    "    loss.backward()\n",
    "    \n",
    "    # perform optimization step after certain number of accumulating steps and at the end of epoch\n",
    "    if step & gradient_accumulation_steps == 0 and step == steps:\n",
    "        torch.nn.utils.clip_grad_norm_(model.parameters(), max_norm)\n",
    "        optimizer.step()\n",
    "        model.zero_grad()"
   ]
  },
  {
   "cell_type": "markdown",
   "id": "0cc93f7f",
   "metadata": {
    "papermill": {
     "duration": null,
     "end_time": null,
     "exception": null,
     "start_time": null,
     "status": "pending"
    },
    "tags": []
   },
   "source": [
    "<h1 style=\"font-family: Verdana; font-weight: bold;\">Freezing</h1>\n",
    "\n",
    "<p style=\"font-size: 15px; font-family: Verdana;\">\n",
    "Freezing is an effective way to speed up training and decrease memory utilization almost without losing final quality by toggling computing gradients in certain layers of the model.<br><br>\n",
    "A well-known fact in Deep Learning is that low layers learn input data patterns and at the same time top layers learn high-level features, which are specific to target tasks. When performing the optimization step with some kind of optimization algorithms (e.g. SGD, AdamW, or RMSprop), the low layers receive small gradients, and hence the parameters almost stay not changed, this is called <a href=\"https://en.wikipedia.org/wiki/Vanishing_gradient_problem\">Gradient Vanishing</a>, so instead of computing \"useless\" gradients and perform optimization of such low-gradients parameters, which sometimes require a lot of time and computational power, we can just freeze them.<br><br>\n",
    "PyTorch provides a comfortable API for toggling computing gradients. Such behavior can be set by the property <a href=\"https://pytorch.org/docs/stable/generated/torch.Tensor.requires_grad.html#torch.Tensor.requires_grad\">requires_grad</a> of <a href=\"https://pytorch.org/docs/stable/tensors.html\">torch.Tensor</a>.\n",
    "\n",
    "</p>"
   ]
  },
  {
   "cell_type": "markdown",
   "id": "ce719ff4",
   "metadata": {
    "papermill": {
     "duration": null,
     "end_time": null,
     "exception": null,
     "start_time": null,
     "status": "pending"
    },
    "tags": []
   },
   "source": [
    "<h3 style=\"font-family: Verdana; font-weight: bold;\">Implementation</h3>"
   ]
  },
  {
   "cell_type": "code",
   "execution_count": null,
   "id": "d2e7d520",
   "metadata": {
    "execution": {
     "iopub.execute_input": "2022-06-17T09:59:26.219343Z",
     "iopub.status.busy": "2022-06-17T09:59:26.218986Z",
     "iopub.status.idle": "2022-06-17T09:59:26.225451Z",
     "shell.execute_reply": "2022-06-17T09:59:26.224487Z",
     "shell.execute_reply.started": "2022-06-17T09:59:26.219305Z"
    },
    "papermill": {
     "duration": null,
     "end_time": null,
     "exception": null,
     "start_time": null,
     "status": "pending"
    },
    "tags": []
   },
   "outputs": [],
   "source": [
    "def freeze(module):\n",
    "    \"\"\"\n",
    "    Freezes module's parameters.\n",
    "    \"\"\"\n",
    "    \n",
    "    for parameter in module.parameters():\n",
    "        parameter.requires_grad = False\n",
    "        \n",
    "def get_freezed_parameters(module):\n",
    "    \"\"\"\n",
    "    Returns names of freezed parameters of the given module.\n",
    "    \"\"\"\n",
    "    \n",
    "    freezed_parameters = []\n",
    "    for name, parameter in module.named_parameters():\n",
    "        if not parameter.requires_grad:\n",
    "            freezed_parameters.append(name)\n",
    "            \n",
    "    return freezed_parameters"
   ]
  },
  {
   "cell_type": "code",
   "execution_count": null,
   "id": "1dc52b70",
   "metadata": {
    "execution": {
     "iopub.execute_input": "2022-06-17T10:00:25.580053Z",
     "iopub.status.busy": "2022-06-17T10:00:25.575305Z",
     "iopub.status.idle": "2022-06-17T10:00:29.432392Z",
     "shell.execute_reply": "2022-06-17T10:00:29.431533Z",
     "shell.execute_reply.started": "2022-06-17T10:00:25.580005Z"
    },
    "papermill": {
     "duration": null,
     "end_time": null,
     "exception": null,
     "start_time": null,
     "status": "pending"
    },
    "tags": []
   },
   "outputs": [],
   "source": [
    "import torch\n",
    "from transformers import AutoConfig, AutoModel\n",
    "\n",
    "\n",
    "# initializing model\n",
    "model_path = \"microsoft/deberta-v3-base\"\n",
    "config = AutoConfig.from_pretrained(model_path)\n",
    "model = AutoModel.from_pretrained(model_path, config=config)\n",
    "\n",
    "\n",
    "# freezing embeddings and first 2 layers of encoder\n",
    "freeze(model.embeddings)\n",
    "freeze(model.encoder.layer[:2])\n",
    "\n",
    "freezed_parameters = get_freezed_parameters(model)\n",
    "print(f\"Freezed parameters: {freezed_parameters}\")\n",
    "\n",
    "# selecting parameters, which requires gradients and initializing optimizer\n",
    "model_parameters = filter(lambda parameter: parameter.requires_grad, model.parameters())\n",
    "optimizer = torch.optim.AdamW(params=model_parameters, lr=2e-5, weight_decay=0.0)"
   ]
  },
  {
   "cell_type": "markdown",
   "id": "00e7808a",
   "metadata": {
    "papermill": {
     "duration": null,
     "end_time": null,
     "exception": null,
     "start_time": null,
     "status": "pending"
    },
    "tags": []
   },
   "source": [
    "<h1 style=\"font-family: Verdana; font-weight: bold;\">Automatic Mixed Precision</h1>\n",
    "\n",
    "<p style=\"font-size: 15px; font-family: Verdana;\">\n",
    "Automatic Mixed Precision (AMP) is another very simple way of reducing memory consumption and training time without losing final quality, which was introduced in <a href=\"https://arxiv.org/abs/1710.03740\">\"Mixed Precision Training\"</a> paper by NVIDIA and Baidu researchers in 2017. The key idea behind the approach is to use lower precision for keeping the model's gradients and parameters in the memory, i.e instead of using full precision (e.g float32) the proposed approach uses half-precision (e.g float16) for keeping tensors in memory. However, when computing gradients in lower precision, some values can be so small that they are treated as zeros, this phenomenon is called <a href=\"https://en.wikipedia.org/wiki/Integer_overflow\">\"overflow\"</a>. In order to prevent \"overflow\", the authors of the original paper proposed a gradient scaling method.<br><br>\n",
    "PyTorch provides a package with necessary functionality (from lowering precision to gradient scaling) for using Automatic Mixed Precision, called <a href=\"https://pytorch.org/docs/stable/amp.html\">torch.cuda.amp</a>. Automatic Mixed Precision was implemented as a context manager, so it can easily be inserted in training and inferencing scripts.\n",
    "\n",
    "\n",
    "</p>"
   ]
  },
  {
   "cell_type": "markdown",
   "id": "729d8ab4",
   "metadata": {
    "papermill": {
     "duration": null,
     "end_time": null,
     "exception": null,
     "start_time": null,
     "status": "pending"
    },
    "tags": []
   },
   "source": [
    "<center><img src=\"https://developer-blogs.nvidia.com/wp-content/uploads/2019/01/pasted-image-0-21.png\" alt=\"Automatic Mixed Precision image\"></center>\n",
    "<p style=\"font-size: 20px; font-family: Verdana; color: grey;\"><center style=\"font-size: 17px; font-family: Verdana; color: grey;\">Visualization of how Automatic Mixed Precision works</center></p>"
   ]
  },
  {
   "cell_type": "markdown",
   "id": "44eb8350",
   "metadata": {
    "papermill": {
     "duration": null,
     "end_time": null,
     "exception": null,
     "start_time": null,
     "status": "pending"
    },
    "tags": []
   },
   "source": [
    "<h3 style=\"font-family: Verdana; font-weight: bold;\">Vanilla training loop</h3>"
   ]
  },
  {
   "cell_type": "code",
   "execution_count": null,
   "id": "c5cc9da4",
   "metadata": {
    "papermill": {
     "duration": null,
     "end_time": null,
     "exception": null,
     "start_time": null,
     "status": "pending"
    },
    "tags": []
   },
   "outputs": [],
   "source": [
    "for step, batch in enumerate(loader, 1):\n",
    "    \n",
    "    # prepare inputs and targets for the model and loss function respectively.\n",
    "    \n",
    "    # forward pass\n",
    "    outputs = model(inputs)\n",
    "    \n",
    "    # computing loss\n",
    "    loss = loss_fn(outputs, targets)\n",
    "    \n",
    "    # backward pass\n",
    "    loss.backward()\n",
    "    \n",
    "    # perform optimization step\n",
    "    torch.nn.utils.clip_grad_norm_(model.parameters(), max_norm)\n",
    "    optimizer.step()\n",
    "    model.zero_grad()"
   ]
  },
  {
   "cell_type": "markdown",
   "id": "8f2198ff",
   "metadata": {
    "papermill": {
     "duration": null,
     "end_time": null,
     "exception": null,
     "start_time": null,
     "status": "pending"
    },
    "tags": []
   },
   "source": [
    "<h3 style=\"font-family: Verdana; font-weight: bold;\">Training loop with Automatic Mixed Precision</h3>"
   ]
  },
  {
   "cell_type": "code",
   "execution_count": null,
   "id": "cec58271",
   "metadata": {
    "papermill": {
     "duration": null,
     "end_time": null,
     "exception": null,
     "start_time": null,
     "status": "pending"
    },
    "tags": []
   },
   "outputs": [],
   "source": [
    "from torch.cuda.amp import autocast, GradScaler\n",
    "\n",
    "\n",
    "scaler = GradScaler()\n",
    "\n",
    "for step, batch in enumerate(loader, 1):\n",
    "    \n",
    "    # prepare inputs and targets for the model and loss function respectively.\n",
    "\n",
    "    # forward pass with `autocast` context manager\n",
    "    with autocast(enabled=True):\n",
    "        outputs = model(inputs)\n",
    "    \n",
    "    # computing loss\n",
    "    loss = loss_fn(outputs, targets)\n",
    "    \n",
    "    # scale gradint and perform backward pass\n",
    "    scaler.scale(loss).backward()\n",
    "    \n",
    "    # before gradient clipping the optimizer parameters must be unscaled.\n",
    "    scaler.unscale_(optimizer)\n",
    "    \n",
    "    # perform optimization step\n",
    "    torch.nn.utils.clip_grad_norm_(model.parameters(), max_norm)\n",
    "    \n",
    "    scaler.step(optimizer)\n",
    "    scaler.update()"
   ]
  },
  {
   "cell_type": "markdown",
   "id": "5485bd32",
   "metadata": {
    "papermill": {
     "duration": null,
     "end_time": null,
     "exception": null,
     "start_time": null,
     "status": "pending"
    },
    "tags": []
   },
   "source": [
    "<h1 style=\"font-family: Verdana; font-weight: bold;\">8-bit Optimizers</h1>\n",
    "\n",
    "<p style=\"font-size: 15px; font-family: Verdana;\">\n",
    "    The idea of 8-bit Optimizers is similar to Automatic Mixed Precision, where the model's parameters and gradients are kept in lower precision, but 8-bit Optimizers additionally keep the optimizer's state in lower precision too. The authors (Meta Research) detail described the 8-bit Optimizers in the original paper <a href=\"https://arxiv.org/abs/2110.02861\">\"8-bit Optimizers via Block-wise Quantization\"</a>, and showed that 8-bit Optimizers lead to significant decreasing memory utilization and slightly speeding up the training. Additionally, the authors studied the impact of different hyperparameter settings and show that 8-bit Optimizers are stable to different choices of learning rate, betas and weight decay parameters without losing performance or hurting the convergence. Therefore, the authors provided a comfortable high-level library for 8-bit Optimizers, called <a href=\"https://github.com/facebookresearch/bitsandbytes\">bitsandbytes</a>. \n",
    "    \n",
    "</p>"
   ]
  },
  {
   "cell_type": "markdown",
   "id": "b5b8e851",
   "metadata": {
    "papermill": {
     "duration": null,
     "end_time": null,
     "exception": null,
     "start_time": null,
     "status": "pending"
    },
    "tags": []
   },
   "source": [
    "<center><img src=\"https://i.ibb.co/9bj3JqG/Screenshot-3.png\" alt=\"8-bit Optimizers table\" border=\"0\"></center>\n",
    "<p style=\"font-size: 20px; font-family: Verdana; color: grey;\"><center style=\"font-size: 17px; font-family: Verdana; color: grey;\">Comparison table of different optimizers</center></p>"
   ]
  },
  {
   "cell_type": "markdown",
   "id": "e7fc82b6",
   "metadata": {
    "papermill": {
     "duration": null,
     "end_time": null,
     "exception": null,
     "start_time": null,
     "status": "pending"
    },
    "tags": []
   },
   "source": [
    "<h3 style=\"font-family: Verdana; font-weight: bold;\">Initializing optimizer via PyTorch API</h3>"
   ]
  },
  {
   "cell_type": "code",
   "execution_count": null,
   "id": "fd473856",
   "metadata": {
    "execution": {
     "iopub.execute_input": "2022-06-17T10:00:46.525688Z",
     "iopub.status.busy": "2022-06-17T10:00:46.525212Z",
     "iopub.status.idle": "2022-06-17T10:00:49.106051Z",
     "shell.execute_reply": "2022-06-17T10:00:49.105093Z",
     "shell.execute_reply.started": "2022-06-17T10:00:46.525641Z"
    },
    "papermill": {
     "duration": null,
     "end_time": null,
     "exception": null,
     "start_time": null,
     "status": "pending"
    },
    "tags": []
   },
   "outputs": [],
   "source": [
    "import torch\n",
    "from transformers import AutoConfig, AutoModel\n",
    "\n",
    "# initializing model\n",
    "model_path = \"microsoft/deberta-v3-base\"\n",
    "config = AutoConfig.from_pretrained(model_path)\n",
    "model = AutoModel.from_pretrained(model_path, config=config)\n",
    "\n",
    "\n",
    "# selecting parameters, which requires gradients\n",
    "model_parameters = filter(lambda parameter: parameter.requires_grad, model.parameters())\n",
    "\n",
    "# initializing optimizer\n",
    "optimizer = torch.optim.AdamW(params=model_parameters, lr=2e-5, weight_decay=0.0)\n",
    "print(f\"32-bit Optimizer:\\n\\n{optimizer}\")"
   ]
  },
  {
   "cell_type": "markdown",
   "id": "e86ed113",
   "metadata": {
    "papermill": {
     "duration": null,
     "end_time": null,
     "exception": null,
     "start_time": null,
     "status": "pending"
    },
    "tags": []
   },
   "source": [
    "<h3 style=\"font-family: Verdana; font-weight: bold;\">Initializing optimizer via bitsandbytes API</h3>"
   ]
  },
  {
   "cell_type": "code",
   "execution_count": null,
   "id": "63d39eeb",
   "metadata": {
    "execution": {
     "iopub.execute_input": "2022-06-17T10:00:57.086101Z",
     "iopub.status.busy": "2022-06-17T10:00:57.085502Z",
     "iopub.status.idle": "2022-06-17T10:01:07.960897Z",
     "shell.execute_reply": "2022-06-17T10:01:07.959873Z",
     "shell.execute_reply.started": "2022-06-17T10:00:57.086061Z"
    },
    "papermill": {
     "duration": null,
     "end_time": null,
     "exception": null,
     "start_time": null,
     "status": "pending"
    },
    "tags": []
   },
   "outputs": [],
   "source": [
    "!pip install -q bitsandbytes-cuda110"
   ]
  },
  {
   "cell_type": "code",
   "execution_count": null,
   "id": "7134b250",
   "metadata": {
    "execution": {
     "iopub.execute_input": "2022-06-17T10:01:07.963597Z",
     "iopub.status.busy": "2022-06-17T10:01:07.963113Z",
     "iopub.status.idle": "2022-06-17T10:01:07.970786Z",
     "shell.execute_reply": "2022-06-17T10:01:07.969873Z",
     "shell.execute_reply.started": "2022-06-17T10:01:07.963558Z"
    },
    "papermill": {
     "duration": null,
     "end_time": null,
     "exception": null,
     "start_time": null,
     "status": "pending"
    },
    "tags": []
   },
   "outputs": [],
   "source": [
    "def set_embedding_parameters_bits(embeddings_path, optim_bits=32):\n",
    "    \"\"\"\n",
    "    https://github.com/huggingface/transformers/issues/14819#issuecomment-1003427930\n",
    "    \"\"\"\n",
    "    \n",
    "    embedding_types = (\"word\", \"position\", \"token_type\")\n",
    "    for embedding_type in embedding_types:\n",
    "        attr_name = f\"{embedding_type}_embeddings\"\n",
    "        \n",
    "        if hasattr(embeddings_path, attr_name): \n",
    "            bnb.optim.GlobalOptimManager.get_instance().register_module_override(\n",
    "                getattr(embeddings_path, attr_name), 'weight', {'optim_bits': optim_bits}\n",
    "            )"
   ]
  },
  {
   "cell_type": "code",
   "execution_count": null,
   "id": "d8c13ffc",
   "metadata": {
    "execution": {
     "iopub.execute_input": "2022-06-17T10:01:18.490855Z",
     "iopub.status.busy": "2022-06-17T10:01:18.490166Z",
     "iopub.status.idle": "2022-06-17T10:01:18.527527Z",
     "shell.execute_reply": "2022-06-17T10:01:18.526758Z",
     "shell.execute_reply.started": "2022-06-17T10:01:18.490767Z"
    },
    "papermill": {
     "duration": null,
     "end_time": null,
     "exception": null,
     "start_time": null,
     "status": "pending"
    },
    "tags": []
   },
   "outputs": [],
   "source": [
    "import bitsandbytes as bnb\n",
    "\n",
    "\n",
    "# selecting parameters, which requires gradients\n",
    "model_parameters = filter(lambda parameter: parameter.requires_grad, model.parameters())\n",
    "\n",
    "# initializing optimizer \n",
    "bnb_optimizer = bnb.optim.AdamW(params=model_parameters, lr=2e-5, weight_decay=0.0, optim_bits=8)\n",
    "# bnb_optimizer = bnb.optim.AdamW8bit(params=model_parameters, lr=2e-5, weight_decay=0.0) # equivalent to the above line\n",
    "\n",
    "# setting embeddings parameters\n",
    "set_embedding_parameters_bits(embeddings_path=model.embeddings)\n",
    "\n",
    "print(f\"8-bit Optimizer:\\n\\n{bnb_optimizer}\")"
   ]
  },
  {
   "cell_type": "markdown",
   "id": "1b308b76",
   "metadata": {
    "papermill": {
     "duration": null,
     "end_time": null,
     "exception": null,
     "start_time": null,
     "status": "pending"
    },
    "tags": []
   },
   "source": [
    "<h1 style=\"font-family: Verdana; font-weight: bold;\">Gradient Checkpointing</h1>\n",
    "\n",
    "<p style=\"font-size: 15px; font-family: Verdana;\">\n",
    "Sometimes even using small batch size and other optimization techniques, e.g. Gradient Accumulation, Freezing, or Automatic Precision Training, we still can run out of memory, especially in cases when the models are large enough. One of the proposed powerful solutions for solving this issue is Gradient Checkpointing, which was firstly introduced in the <a href=\"https://arxiv.org/abs/1604.06174\">\"Training Deep Nets With Sublinear Memory Cost\"</a> paper in 2016. The authors demonstrated that Gradient Checkpointing can significantly reduce memory utilization from $ O(n) $ to $ O(\\sqrt{n}) $, where $ n $ is the number of layers in the model. This approach allows training large models on a single GPU or provides more memory for increasing the batch size for better and faster convergence.\n",
    "\n",
    "</p>"
   ]
  },
  {
   "cell_type": "markdown",
   "id": "0081b75c",
   "metadata": {
    "papermill": {
     "duration": null,
     "end_time": null,
     "exception": null,
     "start_time": null,
     "status": "pending"
    },
    "tags": []
   },
   "source": [
    "<center><img src=\"https://miro.medium.com/max/1400/0*nMSeZxl6ppnrivgv.\"></center>\n",
    "<p style=\"font-size: 20px; font-family: Verdana; color: grey;\"><center style=\"font-size: 17px; font-family: Verdana; color: grey;\">Number of blocks (layers) versus memory utilization in megabytes</center></p>"
   ]
  },
  {
   "cell_type": "markdown",
   "id": "3ba9160a",
   "metadata": {
    "papermill": {
     "duration": null,
     "end_time": null,
     "exception": null,
     "start_time": null,
     "status": "pending"
    },
    "tags": []
   },
   "source": [
    "<p style=\"font-size: 15px; font-family: Verdana;\">\n",
    "The idea behind Gradient Checkpoint is to compute gradients in small chunks while removing unnecessary gradients from the memory during forward and backpropagation passes, thereby reducing memory utilization, despite, such an approach requires more compute steps to reproduce the whole back propagation graph.\n",
    "\n",
    "</p>"
   ]
  },
  {
   "cell_type": "markdown",
   "id": "5a780ff6",
   "metadata": {
    "papermill": {
     "duration": null,
     "end_time": null,
     "exception": null,
     "start_time": null,
     "status": "pending"
    },
    "tags": []
   },
   "source": [
    "<center><img src=\"https://miro.medium.com/max/1082/0*s7U1QDfSXuVd1LrF.\" width=\"1000px\"></center>\n",
    "\n",
    "<p style=\"font-size: 20px; font-family: Verdana; color: grey;\"><center style=\"font-size: 17px; font-family: Verdana; color: grey;\">Demonstration of how Gradient Checkpointing works in forward and backpropagation passes</center></p>"
   ]
  },
  {
   "cell_type": "markdown",
   "id": "10b8934c",
   "metadata": {
    "papermill": {
     "duration": null,
     "end_time": null,
     "exception": null,
     "start_time": null,
     "status": "pending"
    },
    "tags": []
   },
   "source": [
    "<p style=\"font-size: 15px; font-family: Verdana;\">\n",
    "PyTorch framework provides gradient checkpointing from the box via <a href=\"https://pytorch.org/docs/stable/checkpoint.html#torch.utils.checkpoint.checkpoint\">torch.utils.checkpoint.checkpoint</a> and <a href=\"https://pytorch.org/docs/stable/checkpoint.html#torch.utils.checkpoint.checkpoint_sequential\">torch.utils.checkpoint.checkpoint_sequential</a> functions.<br><br>\n",
    "    <i>\"Specifically, in the forward pass, function will run in torch.no_grad() manner, i.e., not storing the intermediate activations. Instead, the forward pass saves the inputs tuple and the function parameter. In the backwards pass, the saved inputs and function is retrieved, and the forward pass is computed on function again, now tracking the intermediate activations, and then the gradients are calculated using these activation values.\"</i><br><br>\n",
    "Additionally, HuggingFace Transformers supports Gradient Checkpoint too. Gradient Checkpointing can be performed by <a href=\"https://huggingface.co/docs/transformers/main_classes/model#transformers.PreTrainedModel.gradient_checkpointing_enable\">gradient_checkpointing_enable</a> method of <a href=\"https://huggingface.co/docs/transformers/main_classes/model#transformers.PreTrainedModel\">PreTrainedModel</a> instance.\n",
    "</p>\n"
   ]
  },
  {
   "cell_type": "markdown",
   "id": "ea3ca691",
   "metadata": {
    "papermill": {
     "duration": null,
     "end_time": null,
     "exception": null,
     "start_time": null,
     "status": "pending"
    },
    "tags": []
   },
   "source": [
    "<h3 style=\"font-family: Verdana; font-weight: bold;\">Implementation</h3>"
   ]
  },
  {
   "cell_type": "code",
   "execution_count": null,
   "id": "2143cee3",
   "metadata": {
    "execution": {
     "iopub.execute_input": "2022-06-17T10:01:28.391308Z",
     "iopub.status.busy": "2022-06-17T10:01:28.390956Z",
     "iopub.status.idle": "2022-06-17T10:01:31.257679Z",
     "shell.execute_reply": "2022-06-17T10:01:31.25687Z",
     "shell.execute_reply.started": "2022-06-17T10:01:28.391277Z"
    },
    "papermill": {
     "duration": null,
     "end_time": null,
     "exception": null,
     "start_time": null,
     "status": "pending"
    },
    "tags": []
   },
   "outputs": [],
   "source": [
    "from transformers import AutoConfig, AutoModel\n",
    "\n",
    "# https://github.com/huggingface/transformers/issues/9919\n",
    "from torch.utils.checkpoint import checkpoint\n",
    "\n",
    "\n",
    "# initializing model\n",
    "model_path = \"microsoft/deberta-v3-base\"\n",
    "config = AutoConfig.from_pretrained(model_path)\n",
    "model = AutoModel.from_pretrained(model_path, config=config)\n",
    "\n",
    "\n",
    "# gradient checkpointing\n",
    "model.gradient_checkpointing_enable()\n",
    "print(f\"Gradient Checkpointing: {model.is_gradient_checkpointing}\")"
   ]
  },
  {
   "cell_type": "markdown",
   "id": "1b0ff80d",
   "metadata": {
    "papermill": {
     "duration": null,
     "end_time": null,
     "exception": null,
     "start_time": null,
     "status": "pending"
    },
    "tags": []
   },
   "source": [
    "<h1 style=\"font-family: Verdana; font-weight: bold;\">Fast Tokenizers</h1>\n",
    "\n",
    "<p style=\"font-size: 15px; font-family: Verdana;\">\n",
    "<a href=\"https://huggingface.co/docs/transformers/v4.19.3/en/index\">HuggingFace Transformers</a> provides two types of Tokenizers: Base and Fast. The main difference between them is that Fast Tokenizers are written on Rust since Python is very slow in loops, which are necessary during tokenization. This is a non-trivial way of allowing us to get a additional speed-up during the tokenization process. The types of Tokenizers can be easily changed through HuggingFace Transformers API in <a href=\"https://huggingface.co/docs/transformers/v4.19.3/en/model_doc/auto#transformers.AutoTokenizer.from_pretrained\">from_pretrained</a> method of <a href=\"https://huggingface.co/docs/transformers/v4.19.3/en/model_doc/auto#transformers.AutoTokenizer\">transformers.AutoTokenizer</a> instance by setting <a href=\"https://huggingface.co/docs/transformers/v4.19.3/en/model_doc/auto#transformers.AutoTokenizer.from_pretrained.use_fast\">use_fast</a> property to True.\n",
    "</p>"
   ]
  },
  {
   "cell_type": "markdown",
   "id": "fdc218b4",
   "metadata": {
    "papermill": {
     "duration": null,
     "end_time": null,
     "exception": null,
     "start_time": null,
     "status": "pending"
    },
    "tags": []
   },
   "source": [
    "<center><img src=\"https://huggingface.co/datasets/huggingface-course/documentation-images/resolve/main/en/chapter6/tokenization_pipeline.svg\" width=\"1000px\" alt=\"Tokenization process\"></center>\n",
    "\n",
    "<p style=\"font-size: 20px; font-family: Verdana; color: grey;\"><center style=\"font-size: 17px; font-family: Verdana; color: grey;\">Visualization of how Tokenization works</center></p>"
   ]
  },
  {
   "cell_type": "markdown",
   "id": "b95d6c8c",
   "metadata": {
    "papermill": {
     "duration": null,
     "end_time": null,
     "exception": null,
     "start_time": null,
     "status": "pending"
    },
    "tags": []
   },
   "source": [
    "<h3 style=\"font-family: Verdana; font-weight: bold;\">Implementation</h3>"
   ]
  },
  {
   "cell_type": "code",
   "execution_count": null,
   "id": "e320dcf3",
   "metadata": {
    "execution": {
     "iopub.execute_input": "2022-06-17T10:01:48.456142Z",
     "iopub.status.busy": "2022-06-17T10:01:48.455545Z",
     "iopub.status.idle": "2022-06-17T10:01:56.093318Z",
     "shell.execute_reply": "2022-06-17T10:01:56.092467Z",
     "shell.execute_reply.started": "2022-06-17T10:01:48.456109Z"
    },
    "papermill": {
     "duration": null,
     "end_time": null,
     "exception": null,
     "start_time": null,
     "status": "pending"
    },
    "tags": []
   },
   "outputs": [],
   "source": [
    "from transformers import AutoTokenizer\n",
    "\n",
    "# initializing Base version of Tokenizer\n",
    "model_path = \"microsoft/deberta-v3-base\"\n",
    "tokenizer = AutoTokenizer.from_pretrained(model_path, use_fast=False)\n",
    "print(f\"Base version Tokenizer:\\n\\n{tokenizer}\", end=\"\\n\"*3)\n",
    "\n",
    "# initializing Fast version of Tokenizer\n",
    "fast_tokenizer = AutoTokenizer.from_pretrained(model_path, use_fast=True)\n",
    "print(f\"Fast version Tokenizer:\\n\\n{fast_tokenizer}\")"
   ]
  },
  {
   "cell_type": "markdown",
   "id": "1370629a",
   "metadata": {
    "papermill": {
     "duration": null,
     "end_time": null,
     "exception": null,
     "start_time": null,
     "status": "pending"
    },
    "tags": []
   },
   "source": [
    "<h1 style=\"font-family: Verdana; font-weight: bold;\">Dynamic Padding</h1>\n",
    "\n",
    "<p style=\"font-size: 15px; font-family: Verdana;\">\n",
    "Generally, the models are trained with a batch of inputs, and each input in the batch must have a fixed size, I.e the batch must be a representation of the matrix. The fixed size is often selected relatively on the length distribution in the dataset, the number of features, or other factors. In NLP tasks, the input size is referred to as the length of the text and called max length. Unfortunately, different texts have different lengths, so to handle such cases, the researchers proposed padding tokens and truncation. Truncation is applied, when the max length is smaller than the input text's length, so some tokens (often lasts) are removed. Padding tokens are special tokens, which is added to the end of input text when the input text's length is smaller than the max length, also worthing to note that padding tokens should not be included in calculating loss in some tasks (e.g Masked Language Modeling or Named Entity Recognition).\n",
    "</p>"
   ]
  },
  {
   "cell_type": "markdown",
   "id": "f5b67262",
   "metadata": {
    "papermill": {
     "duration": null,
     "end_time": null,
     "exception": null,
     "start_time": null,
     "status": "pending"
    },
    "tags": []
   },
   "source": [
    "<img src=\"https://i.ibb.co/J2j895v/fixed-padding-length-1.png\" alt=\"fixed-padding-length-1\" border=\"0\">\n",
    "<p style=\"font-size: 20px; font-family: Verdana; color: grey;\"><center style=\"font-size: 17px; font-family: Verdana; color: grey;\">Visualization of Fixed Padding in the batch</center></p>"
   ]
  },
  {
   "cell_type": "markdown",
   "id": "5a26751a",
   "metadata": {
    "papermill": {
     "duration": null,
     "end_time": null,
     "exception": null,
     "start_time": null,
     "status": "pending"
    },
    "tags": []
   },
   "source": [
    "<p style=\"font-size: 15px; font-family: Verdana;\">\n",
    " However, the padding tokens have significant drawbacks. It is very ineffective and requires more additional memory in cases where the input text is very short relatively to chosen max length. To prevent extra computational operations, the developers proposed one very effective approach - pad the inputs of the batch to the maximum input length of the batch. Although the difference in the terminology is very insufficient, such an approach can speed up training by 35% or even 50%! Despite this, speed up and memory usage depends on batch size and distribution of lengths.\n",
    "\n",
    "</p>"
   ]
  },
  {
   "cell_type": "markdown",
   "id": "81dd3216",
   "metadata": {
    "papermill": {
     "duration": null,
     "end_time": null,
     "exception": null,
     "start_time": null,
     "status": "pending"
    },
    "tags": []
   },
   "source": [
    "<center><img src=\"https://i.ibb.co/BzRMzgx/dynamic-padding.png\" alt=\"dynamic-padding\" border=\"0\"></center>\n",
    "\n",
    "<p style=\"font-size: 20px; font-family: Verdana; color: grey;\"><center style=\"font-size: 17px; font-family: Verdana; color: grey;\">Visualization of how Dynamic Padding works in the batch</center></p>"
   ]
  },
  {
   "cell_type": "markdown",
   "id": "966fe220",
   "metadata": {
    "papermill": {
     "duration": null,
     "end_time": null,
     "exception": null,
     "start_time": null,
     "status": "pending"
    },
    "tags": []
   },
   "source": [
    "<h1 style=\"font-family: Verdana; font-weight: bold;\">Uniform Dynamic Padding</h1>\n",
    "\n",
    "<p style=\"font-size: 15px; font-family: Verdana;\">\n",
    "There is one additional possible approach, which is based on Dynamic Padding, called Uniform Dynamic Padding. The idea is to sort texts by their corresponding lengths beforehand and not shuffle samples during training or inference. This approach is very effective and needs fewer computations during training or inference than Dynamic Padding. However, it is not recommended to use Uniform Dynamic Padding during training since the training implies shuffling of inputs.\n",
    "\n",
    "</p>"
   ]
  },
  {
   "cell_type": "markdown",
   "id": "d0829426",
   "metadata": {
    "papermill": {
     "duration": null,
     "end_time": null,
     "exception": null,
     "start_time": null,
     "status": "pending"
    },
    "tags": []
   },
   "source": [
    "<img src=\"https://i.ibb.co/MCBJj71/uniform-length-batching.png\" alt=\"uniform-length-batching\" border=\"0\">\n",
    "<p style=\"font-size: 20px; font-family: Verdana; color: grey;\"><center style=\"font-size: 17px; font-family: Verdana; color: grey;\">Visualization of how Uniform Dynamic Padding works in the batch</center></p>"
   ]
  },
  {
   "cell_type": "markdown",
   "id": "1e233b1e",
   "metadata": {
    "papermill": {
     "duration": null,
     "end_time": null,
     "exception": null,
     "start_time": null,
     "status": "pending"
    },
    "tags": []
   },
   "source": [
    "<h1 style=\"font-family: Verdana; font-weight: bold;\">Conclusion</h1>\n",
    "\n",
    "<p style=\"font-size: 15px; font-family: Verdana;\">\n",
    "The optimization is a necessary step in developing models even on modern GPUs. For this reason, the article went through the most powerful and popular approaches for speeding up the training and reducing the memory consumption of large models such as Transformers.  \n",
    "</p>"
   ]
  },
  {
   "cell_type": "markdown",
   "id": "583c8877",
   "metadata": {
    "papermill": {
     "duration": null,
     "end_time": null,
     "exception": null,
     "start_time": null,
     "status": "pending"
    },
    "tags": []
   },
   "source": [
    "<a name=\"#references\"></a>\n",
    "<h1 style=\"font-family: Verdana; font-weight: bold;\">References</h1>\n",
    "\n",
    "<p style=\"font-size: 15px; font-family: Verdana;\">During writing article the following links were used:</p>\n",
    "<ul>\n",
    "    <li style=\"font-size: 15px; font-family: Verdana;\"><a href=\"https://huggingface.co/docs/transformers/performance\">Performance and Scalability: How To Fit a Bigger Model and Train It Faster</a></li>\n",
    "    <li style=\"font-size: 15px; font-family: Verdana;\"><a href=\"https://www.kaggle.com/code/rhtsingh/speeding-up-transformer-w-optimization-strategies\">Speeding up Transformer w/ Optimization Strategies</a></li>\n",
    "    <li style=\"font-size: 15px; font-family: Verdana;\"><a href=\"https://www.kaggle.com/competitions/AI4Code/discussion/327777\">Things you can try to speed up training speed and preventing memory shortage if you are using transformers.</a></li>\n",
    "    <li style=\"font-size: 15px; font-family: Verdana;\"><a href=\"https://www.kaggle.com/competitions/feedback-prize-2021/discussion/303131\">8-bit Adam and other memory optimizations</a></li>\n",
    "    <li style=\"font-size: 15px; font-family: Verdana;\"><a href=\"https://medium.com/tensorflow/fitting-larger-networks-into-memory-583e3c758ff9\">Fitting larger networks into memory.\n",
    "</a></li>\n",
    "    \n",
    "</ul>"
   ]
  },
  {
   "cell_type": "markdown",
   "id": "1d31c86d",
   "metadata": {
    "papermill": {
     "duration": null,
     "end_time": null,
     "exception": null,
     "start_time": null,
     "status": "pending"
    },
    "tags": []
   },
   "source": [
    "<a name=\"#realeases\"></a>\n",
    "<h1 style=\"font-family: Verdana; font-weight: bold;\">Realeases</h1>\n",
    "<ul>\n",
    "<!--     <li style=\"font-size: 15px; font-family: Verdana;\"></li> -->\n",
    "</ul>"
   ]
  }
 ],
 "metadata": {
  "kernelspec": {
   "display_name": "Python 3",
   "language": "python",
   "name": "python3"
  },
  "language_info": {
   "codemirror_mode": {
    "name": "ipython",
    "version": 3
   },
   "file_extension": ".py",
   "mimetype": "text/x-python",
   "name": "python",
   "nbconvert_exporter": "python",
   "pygments_lexer": "ipython3",
   "version": "3.7.12"
  },
  "papermill": {
   "default_parameters": {},
   "duration": 24.352969,
   "end_time": "2022-06-22T09:13:44.662973",
   "environment_variables": {},
   "exception": true,
   "input_path": "__notebook__.ipynb",
   "output_path": "__notebook__.ipynb",
   "parameters": {},
   "start_time": "2022-06-22T09:13:20.310004",
   "version": "2.3.4"
  }
 },
 "nbformat": 4,
 "nbformat_minor": 5
}
